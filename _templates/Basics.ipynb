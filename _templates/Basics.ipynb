{
 "cells": [
  {
   "cell_type": "markdown",
   "metadata": {},
   "source": [
    "<div style=\"display:block;\">\n",
    "    <div style=\"color:#666; float:left;\">\n",
    "        <br/>\n",
    "        <br/>\n",
    "        <p style=\"margin:0;padding:0px;font-weight:bold;font-size:30px;\">\n",
    "        Urjalab Tech Academy\n",
    "    </p>\n",
    "    <p style=\"font-size:20px; padding:5px\">\n",
    "        Python Django Course\n",
    "        </p>\n",
    "    </div>\n",
    "    <div style=\"float:right;\">\n",
    "        <img src=\"./assets/logo.jpg\" height=\"100\" width=\"150\" alt=\"Urja Lab Pvt. Ltd\" /> \n",
    "    </div>\n",
    "    \n",
    "</div>\n",
    "    "
   ]
  },
  {
   "cell_type": "markdown",
   "metadata": {},
   "source": [
    "##### Instructed By : Arjun Adhikari"
   ]
  },
  {
   "cell_type": "markdown",
   "metadata": {},
   "source": [
    "<br/><br/>"
   ]
  },
  {
   "cell_type": "markdown",
   "metadata": {},
   "source": [
    "# Chapter Name Here\n",
    "\n",
    "## Basics"
   ]
  },
  {
   "cell_type": "code",
   "execution_count": null,
   "metadata": {},
   "outputs": [],
   "source": []
  }
 ],
 "metadata": {
  "kernelspec": {
   "display_name": "Python 3",
   "language": "python",
   "name": "python3"
  },
  "language_info": {
   "codemirror_mode": {
    "name": "ipython",
    "version": 3
   },
   "file_extension": ".py",
   "mimetype": "text/x-python",
   "name": "python",
   "nbconvert_exporter": "python",
   "pygments_lexer": "ipython3",
   "version": "3.8.5"
  }
 },
 "nbformat": 4,
 "nbformat_minor": 4
}
